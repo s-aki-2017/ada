{
  "nbformat": 4,
  "nbformat_minor": 0,
  "metadata": {
    "colab": {
      "name": "kadai2-1.ipynb",
      "provenance": []
    },
    "kernelspec": {
      "name": "python3",
      "display_name": "Python 3"
    },
    "language_info": {
      "name": "python"
    }
  },
  "cells": [
    {
      "cell_type": "code",
      "metadata": {
        "colab": {
          "base_uri": "https://localhost:8080/",
          "height": 537
        },
        "id": "uxlIGt02H4y0",
        "outputId": "35f30145-8bb9-40f2-c5db-a2d2d8dd274c"
      },
      "source": [
        "from __future__ import division\n",
        "from __future__ import print_function\n",
        "\n",
        "import numpy as np\n",
        "import matplotlib\n",
        "\n",
        "#matplotlib.use('TkAgg')\n",
        "import matplotlib.pyplot as plt\n",
        "\n",
        "np.random.seed(0)  # set the random seed for reproducibility\n",
        "\n",
        "\n",
        "def generate_sample(xmin, xmax, sample_size):\n",
        "    x = np.linspace(start=xmin, stop=xmax, num=sample_size)\n",
        "    pix = np.pi * x\n",
        "    target = np.sin(pix) / pix + 0.1 * x\n",
        "    noise = 0.05 * np.random.normal(loc=0., scale=1., size=sample_size)\n",
        "    return x, target + noise\n",
        "\n",
        "\n",
        "def calc_design_matrix(x, c, h):\n",
        "    return np.exp(-(x[None] - c[:, None]) ** 2 / (2 * h ** 2))\n",
        "\n",
        "\n",
        "# create sample\n",
        "sample_size = 50\n",
        "xmin, xmax = -3, 3\n",
        "x, y = generate_sample(xmin=xmin, xmax=xmax, sample_size=sample_size)\n",
        "\n",
        "\n",
        "# calculate design matrix\n",
        "h = 0.1\n",
        "k = calc_design_matrix(x, x, h)\n",
        "\n",
        "# solve the least square problem\n",
        "l = 0.3\n",
        "theta = np.linalg.solve(\n",
        "    k.T.dot(k) + l * np.identity(len(k)),\n",
        "    k.T.dot(y[:, None]))\n",
        "\n",
        "# create data to visualize the prediction\n",
        "X = np.linspace(start=xmin, stop=xmax, num=5000)\n",
        "K = calc_design_matrix(x, X, h)\n",
        "#print(np.shape(K))\n",
        "prediction = K.dot(theta)\n",
        "\n",
        "# visualization\n",
        "plt.clf()\n",
        "plt.scatter(x, y, c='green', marker='o')\n",
        "plt.plot(X, prediction)\n",
        "plt.savefig('lecture2-p43.png')\n"
      ],
      "execution_count": null,
      "outputs": [
        {
          "output_type": "stream",
          "text": [
            "[-3.         -2.87755102 -2.75510204 -2.63265306 -2.51020408 -2.3877551\n",
            " -2.26530612 -2.14285714 -2.02040816 -1.89795918 -1.7755102  -1.65306122\n",
            " -1.53061224 -1.40816327 -1.28571429 -1.16326531 -1.04081633 -0.91836735\n",
            " -0.79591837 -0.67346939 -0.55102041 -0.42857143 -0.30612245 -0.18367347\n",
            " -0.06122449  0.06122449  0.18367347  0.30612245  0.42857143  0.55102041\n",
            "  0.67346939  0.79591837  0.91836735  1.04081633  1.16326531  1.28571429\n",
            "  1.40816327  1.53061224  1.65306122  1.7755102   1.89795918  2.02040816\n",
            "  2.14285714  2.26530612  2.3877551   2.51020408  2.63265306  2.75510204\n",
            "  2.87755102  3.        ]\n",
            "[[1.         0.47251413 0.04984932 ... 0.         0.         0.        ]\n",
            " [0.47251413 1.         0.47251413 ... 0.         0.         0.        ]\n",
            " [0.04984932 0.47251413 1.         ... 0.         0.         0.        ]\n",
            " ...\n",
            " [0.         0.         0.         ... 1.         0.47251413 0.04984932]\n",
            " [0.         0.         0.         ... 0.47251413 1.         0.47251413]\n",
            " [0.         0.         0.         ... 0.04984932 0.47251413 1.        ]]\n"
          ],
          "name": "stdout"
        },
        {
          "output_type": "display_data",
          "data": {
            "image/png": "[encoded data removed]",
            "text/plain": [
              "<Figure size 432x288 with 1 Axes>"
            ]
          },
          "metadata": {
            "tags": [],
            "needs_background": "light"
          }
        }
      ]
    },
    {
      "cell_type": "code",
      "metadata": {
        "colab": {
          "base_uri": "https://localhost:8080/",
          "height": 316
        },
        "id": "mTHMggJl4WRa",
        "outputId": "d9c3495a-65a0-4896-a421-19a695ad6559"
      },
      "source": [
        "#kadai2-1\n",
        "#\n",
        "#\n",
        "#\n",
        "\n",
        "from __future__ import division\n",
        "from __future__ import print_function\n",
        "\n",
        "import numpy as np\n",
        "import matplotlib\n",
        "\n",
        "#matplotlib.use('TkAgg')\n",
        "import matplotlib.pyplot as plt\n",
        "\n",
        "np.random.seed(0)  # set the random seed for reproducibility\n",
        "\n",
        "\n",
        "def generate_sample(xmin, xmax, sample_size):\n",
        "    x = np.linspace(start=xmin, stop=xmax, num=sample_size)\n",
        "    pix = np.pi * x\n",
        "    target = np.sin(pix) / pix + 0.1 * x\n",
        "    noise = 0.05 * np.random.normal(loc=0., scale=1., size=sample_size)\n",
        "    return x, target + noise\n",
        "\n",
        "\n",
        "def calc_design_matrix(x, c, h):\n",
        "    return np.exp(-(x[None] - c[:, None]) ** 2 / (2 * h ** 2))\n",
        "\n",
        "\n",
        "# create sample\n",
        "sample_size = 50\n",
        "xmin, xmax = -3, 3\n",
        "x, y = generate_sample(xmin=xmin, xmax=xmax, sample_size=sample_size)\n",
        "\n",
        "opt_h = 0\n",
        "opt_l = 0\n",
        "min_loss = 1000000\n",
        "\n",
        "# calculate design matrix\n",
        "for hi in range(0,11):\n",
        "    h = 0.1*hi\n",
        "    for li in range(0,11):\n",
        "        # solve the least square problem\n",
        "        l = 0.1*li\n",
        "        sum_loss = 0\n",
        "        for i in range(np.size(x)):\n",
        "            x_rmv_i = np.delete(x, i, 0)\n",
        "            y_rmv_i = np.delete(y, i, 0)\n",
        "            xi = x[i]\n",
        "            yi = y[i]\n",
        "            k = calc_design_matrix(x_rmv_i, x_rmv_i, h)\n",
        "            theta = np.linalg.solve(\n",
        "                k.T.dot(k) + l * np.identity(len(k)),\n",
        "                k.T.dot(y_rmv_i[:, None]))\n",
        "            K = calc_design_matrix(x_rmv_i, xi[None], h)\n",
        "            sum_loss += (yi - K.dot(theta))**2\n",
        "            #print(loss)\n",
        "        if (sum_loss/np.size(x) < min_loss):\n",
        "            min_loss = sum_loss/np.size(x)\n",
        "            opt_h = h\n",
        "            opt_l = l\n",
        "\n",
        "\n",
        "\n",
        "\n",
        "\n",
        "\n",
        "print(\"h=\", opt_h, \"l=\", opt_l, \"loss=\", min_loss)    \n",
        "\n",
        "# create data to visualize the prediction\n",
        "X = np.linspace(start=xmin, stop=xmax, num=5000)\n",
        "opt_K = calc_design_matrix(x, X, opt_h)\n",
        "prediction = K.dot(theta)\n",
        "\n",
        "# visualization\n",
        "plt.clf()\n",
        "plt.scatter(x, y, c='green', marker='o')\n",
        "plt.plot(X, prediction)\n",
        "plt.savefig('lecture2-opt.png')\n",
        "\n",
        "#----------\n",
        "\n",
        "# calculate design matrix\n",
        "h = opt_h\n",
        "k = calc_design_matrix(x, x, h)\n",
        "\n",
        "# solve the least square problem\n",
        "l = opt_l\n",
        "theta = np.linalg.solve(\n",
        "    k.T.dot(k) + l * np.identity(len(k)),\n",
        "    k.T.dot(y[:, None]))\n",
        "\n",
        "# create data to visualize the prediction\n",
        "X = np.linspace(start=xmin, stop=xmax, num=5000)\n",
        "K = calc_design_matrix(x, X, h)\n",
        "#print(np.shape(K))\n",
        "prediction = K.dot(theta)\n",
        "\n",
        "# visualization\n",
        "plt.clf()\n",
        "plt.scatter(x, y, c='green', marker='o')\n",
        "plt.plot(X, prediction)\n",
        "plt.savefig('lecture2-optfull.png')\n"
      ],
      "execution_count": null,
      "outputs": [
        {
          "output_type": "stream",
          "text": [
            "/usr/local/lib/python3.7/dist-packages/ipykernel_launcher.py:27: RuntimeWarning: divide by zero encountered in true_divide\n",
            "/usr/local/lib/python3.7/dist-packages/ipykernel_launcher.py:27: RuntimeWarning: invalid value encountered in true_divide\n"
          ],
          "name": "stderr"
        },
        {
          "output_type": "stream",
          "text": [
            "0.7000000000000001 0.4\n"
          ],
          "name": "stdout"
        },
        {
          "output_type": "display_data",
          "data": {
            "image/png": "[encoded data removed]",
            "text/plain": [
              "<Figure size 432x288 with 1 Axes>"
            ]
          },
          "metadata": {
            "tags": [],
            "needs_background": "light"
          }
        }
      ]
    },
    {
      "cell_type": "code",
      "metadata": {
        "id": "c-NKsx6D-7y1"
      },
      "source": [
        ""
      ],
      "execution_count": null,
      "outputs": []
    },
    {
      "cell_type": "code",
      "metadata": {
        "colab": {
          "base_uri": "https://localhost:8080/"
        },
        "id": "eOytpSlz68KY",
        "outputId": "1ecd059d-04f7-4aeb-941b-63489ae3afd6"
      },
      "source": [
        ""
      ],
      "execution_count": null,
      "outputs": [
        {
          "output_type": "stream",
          "text": [
            "\u001b[0m\u001b[01;34m.\u001b[0m/  \u001b[01;34m..\u001b[0m/  \u001b[01;34m.config\u001b[0m/  lecture2-p43.png  \u001b[01;34msample_data\u001b[0m/\n"
          ],
          "name": "stdout"
        }
      ]
    },
    {
      "cell_type": "code",
      "metadata": {
        "colab": {
          "base_uri": "https://localhost:8080/",
          "height": 265
        },
        "id": "rHa153prQiKj",
        "outputId": "59187c2f-fc77-4adf-f380-233a4891612c"
      },
      "source": [
        "from __future__ import division\n",
        "from __future__ import print_function\n",
        "\n",
        "import numpy as np\n",
        "import matplotlib\n",
        "\n",
        "#matplotlib.use('TkAgg')\n",
        "import matplotlib.pyplot as plt\n",
        "\n",
        "np.random.seed(0)  # set the random seed for reproducibility\n",
        "\n",
        "\n",
        "def generate_sample(xmin, xmax, sample_size):\n",
        "    x = np.linspace(start=xmin, stop=xmax, num=sample_size)\n",
        "    pix = np.pi * x\n",
        "    target = np.sin(pix) / pix + 0.1 * x\n",
        "    noise = 0.05 * np.random.normal(loc=0., scale=1., size=sample_size)\n",
        "    return x, target + noise\n",
        "\n",
        "\n",
        "def calc_design_matrix(x):\n",
        "    sample_size = len(x)\n",
        "    phi = np.empty(shape=(sample_size, 31))  # design matrix\n",
        "    phi[:, 0] = 1.\n",
        "    phi[:, 1::2] = np.sin(x[:, None] * np.arange(1, 16)[None] / 2)\n",
        "    phi[:, 2::2] = np.cos(x[:, None] * np.arange(1, 16)[None] / 2)\n",
        "    return phi\n",
        "\n",
        "\n",
        "# create sample\n",
        "sample_size = 50\n",
        "xmin, xmax = -3, 3\n",
        "x, y = generate_sample(xmin=xmin, xmax=xmax, sample_size=sample_size)\n",
        "\n",
        "# calculate design matrix\n",
        "phi = calc_design_matrix(x)\n",
        "\n",
        "# solve the least square problem\n",
        "theta = np.linalg.solve(phi.T.dot(phi), phi.T.dot(y[:, None]))\n",
        "\n",
        "# create data to visualize the prediction\n",
        "X = np.linspace(start=xmin, stop=xmax, num=5000)\n",
        "Phi = calc_design_matrix(X)\n",
        "prediction = Phi.dot(theta)\n",
        "\n",
        "# visualization\n",
        "plt.clf()\n",
        "plt.scatter(x, y, c='green', marker='o')\n",
        "plt.plot(X, prediction)\n",
        "plt.savefig('lecture2-p28.png')\n"
      ],
      "execution_count": null,
      "outputs": [
        {
          "output_type": "display_data",
          "data": {
            "image/png": "[encoded data removed]",
            "text/plain": [
              "<Figure size 432x288 with 1 Axes>"
            ]
          },
          "metadata": {
            "tags": [],
            "needs_background": "light"
          }
        }
      ]
    },
    {
      "cell_type": "code",
      "metadata": {
        "id": "WCzdFpc2-9tJ"
      },
      "source": [
        "#kadai2-1\n",
        "#\n",
        "#\n",
        "#\n",
        "\n",
        "from __future__ import division\n",
        "from __future__ import print_function\n",
        "\n",
        "import numpy as np\n",
        "import matplotlib\n",
        "\n",
        "#matplotlib.use('TkAgg')\n",
        "import matplotlib.pyplot as plt\n",
        "\n",
        "np.random.seed(0)  # set the random seed for reproducibility\n",
        "\n",
        "\n",
        "def generate_sample(xmin, xmax, sample_size):\n",
        "    x = np.linspace(start=xmin, stop=xmax, num=sample_size)\n",
        "    pix = np.pi * x\n",
        "    target = np.sin(pix) / pix + 0.1 * x\n",
        "    noise = 0.05 * np.random.normal(loc=0., scale=1., size=sample_size)\n",
        "    return x, target + noise\n",
        "\n",
        "\n",
        "def calc_design_matrix(x, c, h):\n",
        "    return np.exp(-(x[None] - c[:, None]) ** 2 / (2 * h ** 2))\n",
        "\n",
        "\n",
        "# create sample\n",
        "sample_size = 50\n",
        "xmin, xmax = -3, 3\n",
        "x, y = generate_sample(xmin=xmin, xmax=xmax, sample_size=sample_size)\n",
        "\n",
        "opt_h = 0\n",
        "opt_l = 0\n",
        "min_loss = 1000000\n",
        "\n",
        "# calculate design matrix\n",
        "for hi in range(0,11):\n",
        "    h = 0.1*hi\n",
        "    for li in range(0,11):\n",
        "        l = 0.1*li\n",
        "        sum_loss = 0\n",
        "        for i in range(np.size(x)):\n",
        "            x_rmv_i = np.delete(x, i, 0)\n",
        "            y_rmv_i = np.delete(y, i, 0)\n",
        "            xi = x[i]\n",
        "            yi = y[i]\n",
        "            k = calc_design_matrix(x_rmv_i, x_rmv_i, h)\n",
        "            # solve the least square problem\n",
        "            theta = np.linalg.solve(\n",
        "                k.T.dot(k) + l * np.identity(len(k)),\n",
        "                k.T.dot(y_rmv_i[:, None]))\n",
        "            K = calc_design_matrix(x_rmv_i, xi[None], h)\n",
        "            sum_loss += (yi - K.dot(theta))**2\n",
        "        if (sum_loss/np.size(x) < min_loss):\n",
        "            min_loss = sum_loss/np.size(x)\n",
        "            opt_h = h\n",
        "            opt_l = l\n",
        "\n",
        "print(\"h=\", opt_h, \"l=\", opt_l, \"loss=\", min_loss)    "
      ],
      "execution_count": null,
      "outputs": []
    },
    {
      "cell_type": "code",
      "metadata": {
        "id": "vzyjpxsp_HXZ",
        "colab": {
          "base_uri": "https://localhost:8080/"
        },
        "outputId": "3ce7169c-74d5-405d-fa64-cd474d5e9733"
      },
      "source": [
        "#kadai2-1\n",
        "#\n",
        "#\n",
        "#\n",
        "\n",
        "from __future__ import division\n",
        "from __future__ import print_function\n",
        "\n",
        "import numpy as np\n",
        "import matplotlib\n",
        "\n",
        "#matplotlib.use('TkAgg')\n",
        "import matplotlib.pyplot as plt\n",
        "\n",
        "np.random.seed(0)  # set the random seed for reproducibility\n",
        "\n",
        "\n",
        "def generate_sample(xmin, xmax, sample_size):\n",
        "    x = np.linspace(start=xmin, stop=xmax, num=sample_size)\n",
        "    pix = np.pi * x\n",
        "    target = np.sin(pix) / pix + 0.1 * x\n",
        "    noise = 0.05 * np.random.normal(loc=0., scale=1., size=sample_size)\n",
        "    return x, target + noise\n",
        "\n",
        "\n",
        "def calc_design_matrix(x, c, h):\n",
        "    return np.exp(-(x[None] - c[:, None]) ** 2 / (2 * h ** 2))\n",
        "\n",
        "\n",
        "# create sample\n",
        "sample_size = 50\n",
        "xmin, xmax = -3, 3\n",
        "x, y = generate_sample(xmin=xmin, xmax=xmax, sample_size=sample_size)\n",
        "\n",
        "opt_h = 0\n",
        "opt_l = 0\n",
        "min_loss = 1000000\n",
        "\n",
        "# calculate design matrix\n",
        "for hi in range(1,40):\n",
        "    h = 0.05 * hi #hの値を操作\n",
        "    for li in range(40):\n",
        "        l = 0.05 * li #lamdaの値を操作\n",
        "        sum_loss = 0\n",
        "        #h,lを固定してデータからひとつ取り除いて学習させる\n",
        "        for i in range(np.size(x)):\n",
        "            x_rmv_i = np.delete(x, i, 0) #学習用\n",
        "            y_rmv_i = np.delete(y, i, 0) #学習用\n",
        "            xi = x[i] #検証用\n",
        "            yi = y[i] #検証用\n",
        "            k = calc_design_matrix(x_rmv_i, x_rmv_i, h)\n",
        "            # solve the least square problem\n",
        "            theta = np.linalg.solve(\n",
        "                k.T.dot(k) + l * np.identity(len(k)),\n",
        "                k.T.dot(y_rmv_i[:, None]))\n",
        "            K = calc_design_matrix(x_rmv_i, xi[None], h)\n",
        "            sum_loss += (yi - K.dot(theta))**2 \n",
        "        #print(h, l, sum_loss/np.size(x), min_loss)\n",
        "        if (sum_loss/np.size(x) < min_loss): #loss(検証データの2乗誤差)の平均が最小になるh,lを求める\n",
        "            min_loss = sum_loss/np.size(x)\n",
        "            opt_h = h\n",
        "            opt_l = l\n",
        "\n",
        "print(\"h=\", opt_h, \"l=\", opt_l, \"valid_loss=\", min_loss)  "
      ],
      "execution_count": null,
      "outputs": [
        {
          "output_type": "stream",
          "text": [
            "h= 0.30000000000000004 l= 0.05 valid_loss= [[0.00363321]]\n"
          ],
          "name": "stdout"
        }
      ]
    },
    {
      "cell_type": "code",
      "metadata": {
        "colab": {
          "base_uri": "https://localhost:8080/",
          "height": 265
        },
        "id": "WVV-9GJfBowD",
        "outputId": "0a07ae77-2978-44f4-eed6-8e40dc10266a"
      },
      "source": [
        "from __future__ import division\n",
        "from __future__ import print_function\n",
        "\n",
        "import numpy as np\n",
        "import matplotlib\n",
        "\n",
        "#matplotlib.use('TkAgg')\n",
        "import matplotlib.pyplot as plt\n",
        "\n",
        "np.random.seed(0)  # set the random seed for reproducibility\n",
        "\n",
        "\n",
        "def generate_sample(xmin, xmax, sample_size):\n",
        "    x = np.linspace(start=xmin, stop=xmax, num=sample_size)\n",
        "    pix = np.pi * x\n",
        "    target = np.sin(pix) / pix + 0.1 * x\n",
        "    noise = 0.05 * np.random.normal(loc=0., scale=1., size=sample_size)\n",
        "    return x, target + noise\n",
        "\n",
        "\n",
        "def calc_design_matrix(x, c, h):\n",
        "    return np.exp(-(x[None] - c[:, None]) ** 2 / (2 * h ** 2))\n",
        "\n",
        "\n",
        "# create sample\n",
        "sample_size = 50\n",
        "xmin, xmax = -3, 3\n",
        "x, y = generate_sample(xmin=xmin, xmax=xmax, sample_size=sample_size)\n",
        "\n",
        "\n",
        "# calculate design matrix\n",
        "h = 0.1\n",
        "k = calc_design_matrix(x, x, h)\n",
        "\n",
        "# solve the least square problem\n",
        "l = 0.3\n",
        "theta = np.linalg.solve(\n",
        "    k.T.dot(k) + l * np.identity(len(k)),\n",
        "    k.T.dot(y[:, None]))\n",
        "\n",
        "# create data to visualize the prediction\n",
        "X = np.linspace(start=xmin, stop=xmax, num=5000)\n",
        "K = calc_design_matrix(x, X, h)\n",
        "#print(np.shape(K))\n",
        "prediction = K.dot(theta)\n",
        "\n",
        "# visualization\n",
        "plt.clf()\n",
        "plt.scatter(x, y, c='green', marker='o')\n",
        "plt.plot(X, prediction)\n",
        "plt.savefig('lecture2-default.png')\n",
        "\n"
      ],
      "execution_count": null,
      "outputs": [
        {
          "output_type": "display_data",
          "data": {
            "image/png": "[encoded data removed]",
            "text/plain": [
              "<Figure size 432x288 with 1 Axes>"
            ]
          },
          "metadata": {
            "tags": [],
            "needs_background": "light"
          }
        }
      ]
    },
    {
      "cell_type": "code",
      "metadata": {
        "colab": {
          "base_uri": "https://localhost:8080/",
          "height": 265
        },
        "id": "ePT-0Ld1FcaF",
        "outputId": "1f647b84-6d43-4079-834a-05ac6db3dff7"
      },
      "source": [
        "#-------------------------------------\n",
        "\n",
        "# calculate design matrix\n",
        "h = 0.3\n",
        "k = calc_design_matrix(x, x, h)\n",
        "\n",
        "# solve the least square problem\n",
        "l = 0.05\n",
        "theta = np.linalg.solve(\n",
        "    k.T.dot(k) + l * np.identity(len(k)),\n",
        "    k.T.dot(y[:, None]))\n",
        "\n",
        "# create data to visualize the prediction\n",
        "X = np.linspace(start=xmin, stop=xmax, num=5000)\n",
        "K = calc_design_matrix(x, X, h)\n",
        "#print(np.shape(K))\n",
        "prediction = K.dot(theta)\n",
        "\n",
        "# visualization\n",
        "plt.clf()\n",
        "plt.scatter(x, y, c='green', marker='o')\n",
        "plt.plot(X, prediction)\n",
        "plt.savefig('lecture2-opt.png')"
      ],
      "execution_count": null,
      "outputs": [
        {
          "output_type": "display_data",
          "data": {
            "image/png": "[encoded data removed]",
            "text/plain": [
              "<Figure size 432x288 with 1 Axes>"
            ]
          },
          "metadata": {
            "tags": [],
            "needs_background": "light"
          }
        }
      ]
    },
    {
      "cell_type": "code",
      "metadata": {
        "id": "LG3EpXrhFfOh"
      },
      "source": [
        ""
      ],
      "execution_count": null,
      "outputs": []
    }
  ]
}